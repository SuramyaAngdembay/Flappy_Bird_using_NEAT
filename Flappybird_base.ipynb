{
  "nbformat": 4,
  "nbformat_minor": 0,
  "metadata": {
    "colab": {
      "provenance": [],
      "authorship_tag": "ABX9TyPuEv0KiJKgEZ44zq+3LXvB",
      "include_colab_link": true
    },
    "kernelspec": {
      "name": "python3",
      "display_name": "Python 3"
    },
    "language_info": {
      "name": "python"
    }
  },
  "cells": [
    {
      "cell_type": "markdown",
      "metadata": {
        "id": "view-in-github",
        "colab_type": "text"
      },
      "source": [
        "<a href=\"https://colab.research.google.com/github/SuramyaAngdembay/Flappy_Bird_using_NEAT/blob/Environment_generation/Flappybird_base.ipynb\" target=\"_parent\"><img src=\"https://colab.research.google.com/assets/colab-badge.svg\" alt=\"Open In Colab\"/></a>"
      ]
    },
    {
      "cell_type": "code",
      "execution_count": 2,
      "metadata": {
        "colab": {
          "base_uri": "https://localhost:8080/"
        },
        "id": "rO57TCIMp8To",
        "outputId": "891fe3a7-eb88-46ab-8d07-fa1a690aa056"
      },
      "outputs": [
        {
          "output_type": "stream",
          "name": "stdout",
          "text": [
            "pygame 2.5.2 (SDL 2.28.2, Python 3.10.12)\n",
            "Hello from the pygame community. https://www.pygame.org/contribute.html\n"
          ]
        }
      ],
      "source": [
        "import pygame\n",
        "import random\n",
        "import os\n",
        "import time\n",
        "#import package to build game"
      ]
    },
    {
      "cell_type": "code",
      "source": [
        "pygame.init() #initialize pygame"
      ],
      "metadata": {
        "colab": {
          "base_uri": "https://localhost:8080/"
        },
        "id": "xyPfE51Y4hf2",
        "outputId": "d88a80a6-a667-49d9-9cce-7895e83966f1"
      },
      "execution_count": 3,
      "outputs": [
        {
          "output_type": "execute_result",
          "data": {
            "text/plain": [
              "(4, 1)"
            ]
          },
          "metadata": {},
          "execution_count": 3
        }
      ]
    },
    {
      "cell_type": "code",
      "source": [
        "#set up screen width to display the game\n",
        "SCREEN_WIDTH = 800\n",
        "SCREEN_HEIGHT = 550\n",
        "SCREEN = pygame.display.set_mode((SCREEN_WIDTH, SCREEN_HEIGHT))\n",
        "print(SCREEN)"
      ],
      "metadata": {
        "id": "LG5ZhpxE4794",
        "colab": {
          "base_uri": "https://localhost:8080/"
        },
        "outputId": "51f67129-7ae5-4d48-9c1d-bb7544053285"
      },
      "execution_count": 4,
      "outputs": [
        {
          "output_type": "stream",
          "name": "stdout",
          "text": [
            "<Surface(800x550x32 SW)>\n"
          ]
        }
      ]
    },
    {
      "cell_type": "code",
      "source": [
        "#set up font\n",
        "FONT = pygame.font.SysFont('comicsansms', 20)\n",
        "FONT_COLOR = (255, 255, 255) #white font\n",
        "print(FONT_COLOR)"
      ],
      "metadata": {
        "colab": {
          "base_uri": "https://localhost:8080/"
        },
        "id": "t0TFCYX76bdg",
        "outputId": "002d2732-ada8-4714-8504-472c04310eb4"
      },
      "execution_count": 5,
      "outputs": [
        {
          "output_type": "stream",
          "name": "stdout",
          "text": [
            "(255, 255, 255)\n"
          ]
        }
      ]
    },
    {
      "cell_type": "code",
      "source": [
        "#load the required images\n",
        "BIRD_IMGS = [pygame.image.load('Flapp_Bird.png'),\n",
        "             pygame.image.load('Flappy_bird_wings_up.png'),\n",
        "             pygame.image.load('Flappy_bird_wings_down.png')]\n",
        "BOTTOM_PIPE_IMG = pygame.image.load('Super_Mario_pipe.png')\n",
        "TOP_PIPE_IMG = pygame.transform.flip(BOTTOM_PIPE_IMG, False, True) #flip the image of the bottom pipe to get the image for the pipe on the top\n",
        "FLOOR_IMG = pygame.image.load('Stone_ground.png')\n",
        "BG_IMG = pygame.transform.scale(pygame.image.load('City_Skyline.png'), (SCREEN_WIDTH, SCREEN_HEIGHT))"
      ],
      "metadata": {
        "id": "sn25CY8X65b5"
      },
      "execution_count": 8,
      "outputs": []
    }
  ]
}